{
  "nbformat": 4,
  "nbformat_minor": 0,
  "metadata": {
    "colab": {
      "name": "main.ipynb",
      "version": "0.3.2",
      "provenance": [],
      "collapsed_sections": [],
      "include_colab_link": true
    },
    "kernelspec": {
      "name": "python3",
      "display_name": "Python 3"
    }
  },
  "cells": [
    {
      "cell_type": "markdown",
      "metadata": {
        "id": "view-in-github",
        "colab_type": "text"
      },
      "source": [
        "<a href=\"https://colab.research.google.com/github/grkashani/object_detection/blob/master/main.ipynb\" target=\"_parent\"><img src=\"https://colab.research.google.com/assets/colab-badge.svg\" alt=\"Open In Colab\"/></a>"
      ]
    },
    {
      "metadata": {
        "id": "lHkWMdqqNT9B",
        "colab_type": "text"
      },
      "cell_type": "markdown",
      "source": [
        "# Git Clone\n"
      ]
    },
    {
      "metadata": {
        "id": "0mGQDVbncP3B",
        "colab_type": "code",
        "colab": {}
      },
      "cell_type": "code",
      "source": [
        "!git clone https://github.com/grkashani/object_detection.git\n"
      ],
      "execution_count": 0,
      "outputs": []
    },
    {
      "metadata": {
        "id": "RZwoLTInOxzp",
        "colab_type": "text"
      },
      "cell_type": "markdown",
      "source": [
        "# Import My Tools\n"
      ]
    },
    {
      "metadata": {
        "id": "BXlz3vXaOnhg",
        "colab_type": "code",
        "colab": {}
      },
      "cell_type": "code",
      "source": [
        "# from object_detection.mytools import mytools as mytools\n",
        "from object_detection.mytools.mytools import take_photo\n",
        "DATA_DOCS = \"/object_detection/data/GoogleColab/raw_data/cars/\""
      ],
      "execution_count": 0,
      "outputs": []
    },
    {
      "metadata": {
        "id": "K1cLcTGNPbAy",
        "colab_type": "text"
      },
      "cell_type": "markdown",
      "source": [
        "# Test take_photo "
      ]
    },
    {
      "metadata": {
        "id": "kqj_CatPPiru",
        "colab_type": "code",
        "colab": {}
      },
      "cell_type": "code",
      "source": [
        "take_photo()"
      ],
      "execution_count": 0,
      "outputs": []
    }
  ]
}