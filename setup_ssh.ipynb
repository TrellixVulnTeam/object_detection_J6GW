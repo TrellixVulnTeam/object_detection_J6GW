{
  "nbformat": 4,
  "nbformat_minor": 0,
  "metadata": {
    "colab": {
      "name": "setup_ssh.ipynb",
      "version": "0.3.2",
      "provenance": [],
      "collapsed_sections": [],
      "include_colab_link": true
    },
    "kernelspec": {
      "name": "python3",
      "display_name": "Python 3"
    }
  },
  "cells": [
    {
      "cell_type": "markdown",
      "metadata": {
        "id": "view-in-github",
        "colab_type": "text"
      },
      "source": [
        "<a href=\"https://colab.research.google.com/github/grkashani/object_detection/blob/master/setup_ssh.ipynb\" target=\"_parent\"><img src=\"https://colab.research.google.com/assets/colab-badge.svg\" alt=\"Open In Colab\"/></a>"
      ]
    },
    {
      "metadata": {
        "id": "ML-Rs72-15hd",
        "colab_type": "code",
        "colab": {
          "base_uri": "https://localhost:8080/",
          "height": 534
        },
        "outputId": "aefc777f-008b-49d4-b387-5b0ecf3def93"
      },
      "cell_type": "code",
      "source": [
        "!mkdir /root/.ssh\n",
        "from google.colab import drive\n",
        "drive.mount('/content/gdrive')\n",
        "!cp \"/content/gdrive/My Drive/Colab Notebooks/Backup/.ssh/id_rsa\" \"/root/.ssh\"\n",
        "!cp \"/content/gdrive/My Drive/Colab Notebooks/Backup/.ssh/id_rsa.pub\" \"/root/.ssh\"\n",
        "\n",
        "\n",
        "!git clone https://github.com/grkashani/object_detection.git\n",
        "\n",
        "%cd\n",
        "!git clone --quiet https://github.com/tensorflow/models.git\n",
        "!apt-get install -qq protobuf-compiler python-tk\n",
        "!pip install -q Cython contextlib2 pillow lxml matplotlib PyDrive\n",
        "!pip install -q pycocotools\n",
        "%cd ~/models/research\n",
        "!protoc object_detection/protos/*.proto --python_out=.\n",
        "import os\n",
        "os.environ['PYTHONPATH'] += ':/root/models/research/:/root/models/research/slim/'\n",
        "!python object_detection/builders/model_builder_test.py\n"
      ],
      "execution_count": 1,
      "outputs": [
        {
          "output_type": "stream",
          "text": [
            "Go to this URL in a browser: https://accounts.google.com/o/oauth2/auth?client_id=947318989803-6bn6qk8qdgf4n4g3pfee6491hc0brc4i.apps.googleusercontent.com&redirect_uri=urn%3Aietf%3Awg%3Aoauth%3A2.0%3Aoob&scope=email%20https%3A%2F%2Fwww.googleapis.com%2Fauth%2Fdocs.test%20https%3A%2F%2Fwww.googleapis.com%2Fauth%2Fdrive%20https%3A%2F%2Fwww.googleapis.com%2Fauth%2Fdrive.photos.readonly%20https%3A%2F%2Fwww.googleapis.com%2Fauth%2Fpeopleapi.readonly&response_type=code\n",
            "\n",
            "Enter your authorization code:\n",
            "··········\n",
            "Mounted at /content/gdrive\n",
            "cp: cannot stat '/content/gdrive/My Drive/Colab Notebooks/Backup/.ssh/id_rsa*': No such file or directory\n",
            "Cloning into 'object_detection'...\n",
            "remote: Enumerating objects: 635, done.\u001b[K\n",
            "remote: Counting objects: 100% (635/635), done.\u001b[K\n",
            "remote: Compressing objects: 100% (626/626), done.\u001b[K\n",
            "remote: Total 635 (delta 18), reused 579 (delta 2), pack-reused 0\u001b[K\n",
            "Receiving objects: 100% (635/635), 12.63 MiB | 18.02 MiB/s, done.\n",
            "Resolving deltas: 100% (18/18), done.\n",
            "/root\n",
            "fatal: destination path 'models' already exists and is not an empty directory.\n",
            "/root/models/research\n",
            "\n",
            "WARNING: The TensorFlow contrib module will not be included in TensorFlow 2.0.\n",
            "For more information, please see:\n",
            "  * https://github.com/tensorflow/community/blob/master/rfcs/20180907-contrib-sunset.md\n",
            "  * https://github.com/tensorflow/addons\n",
            "If you depend on functionality not listed there, please file an issue.\n",
            "\n",
            "............s...\n",
            "----------------------------------------------------------------------\n",
            "Ran 16 tests in 0.072s\n",
            "\n",
            "OK (skipped=1)\n"
          ],
          "name": "stdout"
        }
      ]
    }
  ]
}